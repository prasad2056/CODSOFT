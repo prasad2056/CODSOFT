{
  "cells": [
    {
      "cell_type": "code",
      "execution_count": 6,
      "metadata": {
        "colab": {
          "base_uri": "https://localhost:8080/"
        },
        "id": "drh2y70yOanC",
        "outputId": "d244e958-7529-4b82-f2c5-b1135977d26a"
      },
      "outputs": [
        {
          "name": "stdout",
          "output_type": "stream",
          "text": [
            "\n",
            "Simple Movie Recommendation System\n",
            "\n",
            "Enter the Movie Name: Movie A\n",
            "\n",
            "Top Movie Recommendations for 'Movie A' based on User Preferences Using Content-Based Filtering\n",
            "Movie B (Average Rating: 5.00)\n",
            "Movie C (Average Rating: 4.00)\n",
            "Movie D (Average Rating: 3.00)\n"
          ]
        }
      ],
      "source": [
        "# 1. IMPORTING LIBRARIES\n",
        "import pandas as pd\n",
        "from sklearn.feature_extraction.text import TfidfVectorizer\n",
        "from sklearn.metrics.pairwise import linear_kernel\n",
        "\n",
        "# 2.1 Sample Movie Data\n",
        "movies_data = {\n",
        "    'MovieID': [1, 2, 3, 4, 5],\n",
        "    'MovieName': ['Movie A', 'Movie B', 'Movie C', 'Movie D', 'Movie E'],\n",
        "    'Genre': ['Action', 'Comedy', 'Action', 'Drama', 'Comedy'],\n",
        "    'Description': ['Action-packed movie with explosions and fights.',\n",
        "                        'A funny comedy with lots of laughs and humor.',\n",
        "                        'Thrilling action movie with suspenseful scenes.',\n",
        "                        'A drama with emotional and touching moments.',\n",
        "                        'A funny comedy with lots of laughs and humor.']\n",
        "}\n",
        "\n",
        "# 2.2 Sample Ratings Data\n",
        "ratings_data = {\n",
        "    'UserID': [1, 1, 2, 2, 3],\n",
        "    'MovieID': [1, 2, 3, 4, 5],\n",
        "    'Rating': [5, 4, 3, 2, 4],\n",
        "}\n",
        "\n",
        "movies_df = pd.DataFrame(movies_data)\n",
        "ratings_df = pd.DataFrame(ratings_data)\n",
        "\n",
        "# 3. Merge dataframes to get movie details with ratings\n",
        "movie_ratings = pd.merge(ratings_df, movies_df, on='MovieID')\n",
        "\n",
        "# 4. CONTENT-BASED FILTERING\n",
        "\n",
        "# 4.1 Create a TF-IDF vectorizer to convert genres into numerical features\n",
        "tfidf_vectorizer = TfidfVectorizer(stop_words='english')\n",
        "tfidf_matrix = tfidf_vectorizer.fit_transform(movies_df['Genre'])\n",
        "\n",
        "# 4.2 Compute COSINE-SIMILARITY between movies based on TF-IDF vectors\n",
        "cosine_similarity = linear_kernel(tfidf_matrix, tfidf_matrix)\n",
        "\n",
        "# 4.3 FUNCTION TO GET MOVIE-RECOMMENDATIONS BASED ON RATINGS AND SIMILARITY\n",
        "def get_movie_recommendations(movie_name, rating_threshold=2.0):\n",
        "    movie_index = movies_df.index[movies_df['MovieName'] == movie_name].tolist()[0]\n",
        "\n",
        "    # Get movies similar to the selected one based on cosine similarity\n",
        "    similar_movies = list(enumerate(cosine_similarity[movie_index]))\n",
        "    similar_movies = sorted(similar_movies, key=lambda x: x[1], reverse=True)[1:]  # Exclude the movie itself\n",
        "\n",
        "    # Get movies with ratings above the threshold\n",
        "    high_rated_similar_movies = [(movies_df['MovieName'][i], movie_ratings['Rating'][movie_ratings['MovieID'] == i].mean())\n",
        "    for i, _ in similar_movies if movie_ratings['Rating'][movie_ratings['MovieID'] == i].mean() > rating_threshold]\n",
        "\n",
        "    # Sort movies based on average ratings\n",
        "    high_rated_similar_movies = sorted(high_rated_similar_movies, key=lambda x: x[1], reverse=True)\n",
        "    return high_rated_similar_movies\n",
        "\n",
        "\n",
        "# 5. TAKE INPUT FROM USER\n",
        "print(\"\\nSimple Movie Recommendation System\")\n",
        "\n",
        "movie_name = input(\"\\nEnter the Movie Name: \")\n",
        "recommendations = get_movie_recommendations(movie_name)\n",
        "\n",
        "print(f\"\\nTop Movie Recommendations for '{movie_name}' based on User Preferences Using Content-Based Filtering\")\n",
        "for movie, rating in recommendations:\n",
        "    print(f\"{movie} (Average Rating: {rating:.2f})\")"
      ]
    }
  ],
  "metadata": {
    "colab": {
      "provenance": []
    },
    "kernelspec": {
      "display_name": "Python 3",
      "name": "python3"
    },
    "language_info": {
      "name": "python"
    }
  },
  "nbformat": 4,
  "nbformat_minor": 0
}
